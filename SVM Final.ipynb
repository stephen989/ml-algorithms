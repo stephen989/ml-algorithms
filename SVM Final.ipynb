{
 "cells": [
  {
   "cell_type": "code",
   "execution_count": 1,
   "metadata": {
    "colab": {
     "base_uri": "https://localhost:8080/"
    },
    "id": "8UTWyc-gXZF8",
    "outputId": "c39b7cdb-2095-4102-8c8e-abb2b5b1747d"
   },
   "outputs": [],
   "source": [
    "import numpy as np\n",
    "import pandas as pd\n",
    "import pickle\n",
    "import matplotlib.pyplot as plt\n",
    "import time\n",
    "import os\n",
    "import cvxopt\n",
    "from cvxopt import matrix as cvm\n"
   ]
  },
  {
   "cell_type": "code",
   "execution_count": 2,
   "metadata": {
    "id": "U1sN1tjgXZGC"
   },
   "outputs": [],
   "source": [
    "# train = pd.read_csv(\"dtrain123.dat\", delimiter = \"  \", header = None)\n",
    "test = pd.read_csv(\"data/dtest123.dat\", delimiter = \"  \", header = None)\n",
    "train = pd.read_csv(\"data/zipcombo.dat\", delimiter = \" \", header = None)\n",
    "train.shape\n",
    "minitrain = pd.read_csv(\"data/dtrain123.dat\", delimiter = \"  \", header = None)\n",
    "train = np.array(train)\n",
    "xtrain = train[:,1:257]\n",
    "ytrain = train[:,0]\n",
    "one = np.array(minitrain)\n",
    "xone = one[:, 1:257]\n",
    "yone = one[:,0]\n",
    "test = np.array(test)\n",
    "xtest = test[:, 1:]\n",
    "ytest = test[:,0]\n",
    "def split_data(fullK, jtrain, jtest, y):\n",
    "    Ktrain = fullK[jtrain][:,jtrain].copy()\n",
    "    Ktest =  fullK[jtrain][:,jtest].copy()\n",
    "    ytrain = y[jtrain]\n",
    "    ytest = y[jtest]\n",
    "    return Ktrain, ytrain, Ktest, ytest"
   ]
  },
  {
   "cell_type": "code",
   "execution_count": 3,
   "metadata": {
    "id": "s3vpphDvXZGC"
   },
   "outputs": [],
   "source": [
    "def K(p, q, d = 2):\n",
    "    return (p.T.dot(q))**d\n",
    "\n",
    "def GaussK(p, q, c):\n",
    "    return np.exp(-c * np.sum((p-q)**2))"
   ]
  },
  {
   "cell_type": "code",
   "execution_count": 4,
   "metadata": {
    "id": "2ZKPUPAUXZGE"
   },
   "outputs": [],
   "source": [
    "class onevsall:\n",
    "    def __init__(self, xtrain, ytrain, k, c = 1):\n",
    "        self.N = len(xtrain)\n",
    "        self.models = []\n",
    "        self.x = xtrain\n",
    "        self.y = ytrain\n",
    "        self.K = k\n",
    "        self.c = c\n",
    "    \n",
    "    def train(self):\n",
    "        self.vals = range(int(max(self.y)+1)) \n",
    "        if len(self.models) == 0:\n",
    "            self.ytemps = []\n",
    "            for val in self.vals:\n",
    "                ytemp = self.y.copy()\n",
    "                ytemp[ytemp != val] = -1\n",
    "                ytemp[ytemp == val] = 1\n",
    "                self.models.append(SVM(self.x, ytemp, self.K, c = self.c))\n",
    "                self.ytemps.append(ytemp.copy())\n",
    "                self.models[val].optimize()        \n",
    "    \n",
    "    def predict(self, x, sign = False, full = False):\n",
    "        preds = np.zeros((x.shape[1], len(self.models)))\n",
    "        yhat = np.zeros(x.shape[0])\n",
    "        for i, model in enumerate(self.models):\n",
    "            preds[:,i] = model.predict(x, sign)\n",
    "        preds[preds<0] = 0\n",
    "        if full:\n",
    "            return \n",
    "        return np.abs(preds).argmax(axis = 1)"
   ]
  },
  {
   "cell_type": "code",
   "execution_count": 5,
   "metadata": {
    "colab": {
     "base_uri": "https://localhost:8080/"
    },
    "id": "fgQGCzP0XZGE",
    "outputId": "79e45cc9-383e-44ef-bde3-ff698e20f297"
   },
   "outputs": [
    {
     "data": {
      "text/plain": [
       "1"
      ]
     },
     "execution_count": 5,
     "metadata": {},
     "output_type": "execute_result"
    }
   ],
   "source": [
    "class SVM:\n",
    "    def __init__(self, xtrain, ytrain, k = None, c = 1):\n",
    "        self.K = k\n",
    "        self.y = ytrain\n",
    "        self.n = len(k)\n",
    "        self.c = c\n",
    "        self.x = xtrain\n",
    "\n",
    "    def optimize(self):\n",
    "        P = cvm(np.outer(self.y, self.y)*self.K)\n",
    "        q = cvm(-np.ones((self.n)))\n",
    "        G = np.zeros((2*self.n, self.n))\n",
    "        G[:self.n] = -np.diag(np.ones((self.n)))\n",
    "        G[self.n:] = np.eye(self.n)\n",
    "        \n",
    "        G = cvm(G)\n",
    "        H = np.zeros((2*self.n, 1))\n",
    "        H[self.n:] = self.c * np.ones((self.n, 1))\n",
    "        H = cvm(H)\n",
    "        A = cvm(self.y.copy().reshape(1, self.n))\n",
    "        b = cvm(np.zeros(1))\n",
    "        self.A = A\n",
    "        \n",
    "        \n",
    "        sol = cvxopt.solvers.qp(P, q, G, H, A, b,  options =  {\"show_progress\": False})\n",
    "        self.alpha = np.array(sol[\"x\"])\n",
    "        self.sv = np.where(self.alpha > 1e-5)[0]\n",
    "        self.svx = self.x[self.sv]\n",
    "        self.svy = self.y[self.sv]\n",
    "        self.b = np.sum(self.svy)\n",
    "        for sv in self.sv:\n",
    "            self.b -= np.sum(self.alpha[sv]*self.y[sv]* self.K[sv, self.sv])\n",
    "        self.b /= len(self.sv)\n",
    "    \n",
    "    def predict(self, ktest, sign = False):\n",
    "        yhat = (self.alpha[self.sv].flatten()*self.svy.flatten()).dot(ktest[self.sv])\n",
    "\n",
    "        if sign:\n",
    "            return np.sign(yhat)\n",
    "        return yhat\n"
   ]
  },
  {
   "cell_type": "code",
   "execution_count": 6,
   "metadata": {
    "id": "IYdWnXcoXZGF"
   },
   "outputs": [],
   "source": [
    "class onevsone:\n",
    "    def __init__(self, xtrain, ytrain, k, c = 1):\n",
    "        self.x = xtrain\n",
    "        self.y = ytrain\n",
    "        self.K = k\n",
    "        self.c = c\n",
    "        self.models = []\n",
    "        self.n = len(xtrain)\n",
    "    \n",
    "    def train(self):\n",
    "        self.vals = range(int(max(self.y)+1))\n",
    "        self.m = int(max(self.y)+1)\n",
    "        self.Ks = [int(max(self.y+1))*[None] for i in range(int(max(self.y+1)))]\n",
    "        self.ijs = [int(max(self.y+1))*[None] for i in range(int(max(self.y+1)))]\n",
    "        self.ys = [int(max(self.y+1))*[None] for i in range(int(max(self.y+1)))]\n",
    "        self.models = [int(max(self.y+1))*[None] for i in range(int(max(self.y+1)))]\n",
    "        for i in range(self.m):\n",
    "            for j in range(i+1, self.m):\n",
    "                ij = np.where((self.y==i)|(self.y==j))[0]\n",
    "                self.ijs[i][j] = ij.copy()\n",
    "                ktemp = self.K[ij][:,ij]\n",
    "                ytemp = self.y[ij].copy()\n",
    "                ytemp[ytemp==j] = -1\n",
    "                ytemp[ytemp==i] = 1\n",
    "                self.models[i][j] = SVM(self.x[ij], ytemp, ktemp, self.c)\n",
    "                self.models[i][j].optimize()\n",
    "    \n",
    "    def predict(self, K):\n",
    "        n = K.shape[1]\n",
    "        preds = np.zeros((n, self.m, self.m))\n",
    "        for i in range(self.m):\n",
    "            for j in range(i+1, self.m):\n",
    "                preds[:,i,j] = self.models[i][j].predict(K[self.ijs[i][j]], sign = False)\n",
    "        scores = np.zeros((n, n))\n",
    "        for n, pred in enumerate(preds):\n",
    "            for i in range(self.m):\n",
    "                scores[n,i] += -np.sum(pred[:i, i]) + np.sum(pred[i,i:])\n",
    "        return np.argmax(scores, axis = 1)\n",
    "    \n",
    "                "
   ]
  },
  {
   "cell_type": "code",
   "execution_count": 7,
   "metadata": {
    "id": "SYuuYwjnXZGG"
   },
   "outputs": [],
   "source": [
    "class bag:\n",
    "    def __init__(self, n, xtrain, ytrain, k, c=1):\n",
    "        self.nsplits= n\n",
    "        self.x = xtrain\n",
    "        self.y = ytrain\n",
    "        self.K = k\n",
    "        self.c = c\n",
    "        self.n = len(xtrain)\n",
    "        \n",
    "    def train(self):\n",
    "        self.models = []\n",
    "        self.splits = np.linspace(0, self.n, self.nsplits + 1).astype(\"int\")\n",
    "        for i in range(1, self.nsplits+1):\n",
    "            n, nprev = self.splits[i], self.splits[i-1]\n",
    "            xtemp = self.x[nprev:n]\n",
    "            ytemp = self.y[nprev:n]\n",
    "            ktemp = self.K[nprev:n][:,nprev:n]\n",
    "            self.models.append(onevsall(xtemp, ytemp, ktemp, c = self.c))\n",
    "            self.models[-1].train()\n",
    "    \n",
    "    def predict(self, ktest, full = False):\n",
    "        ntest = ktest.shape[1]\n",
    "        votes = np.zeros((ntest, self.nsplits)).astype(\"int\")\n",
    "        for i in range(1, self.nsplits+1):\n",
    "            n, nprev = self.splits[i], self.splits[i-1]\n",
    "            votes[:,i-1] = self.models[i-1].predict(ktest[nprev:n])\n",
    "        votes = votes.astype(\"int\")\n",
    "        yhat = np.zeros(ntest)\n",
    "        if full:\n",
    "            yhat = np.zeros((ntest, 10))\n",
    "            for i in range(ntest):\n",
    "#                 print(yhat, np.bincount(votes[i]))\n",
    "                yhat[i] = np.bincount(votes[i], minlength = 10)\n",
    "            return yhat\n",
    "        for i in range(ntest):\n",
    "            yhat[i] = np.bincount(votes[i]).argmax()\n",
    "        return yhat"
   ]
  }
 ],
 "metadata": {
  "colab": {
   "name": "SVMClean.ipynb",
   "provenance": []
  },
  "kernelspec": {
   "display_name": "Python 3",
   "language": "python",
   "name": "python3"
  },
  "language_info": {
   "codemirror_mode": {
    "name": "ipython",
    "version": 3
   },
   "file_extension": ".py",
   "mimetype": "text/x-python",
   "name": "python",
   "nbconvert_exporter": "python",
   "pygments_lexer": "ipython3",
   "version": "3.8.5"
  }
 },
 "nbformat": 4,
 "nbformat_minor": 1
}
