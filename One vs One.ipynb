{
 "cells": [
  {
   "cell_type": "code",
   "execution_count": 1,
   "metadata": {
    "colab": {
     "base_uri": "https://localhost:8080/"
    },
    "id": "A96P1D5KTa11",
    "outputId": "236bcba4-f4cf-43c7-c6b4-3ed3b58ed1dd"
   },
   "outputs": [],
   "source": [
    "import numpy as np\n",
    "import pandas as pd\n",
    "import pickle\n",
    "import matplotlib.pyplot as plt\n",
    "import time\n",
    "# from google.colab import drive\n",
    "import os\n",
    "import gc\n",
    "# def mount():\n",
    "#   drive.mount('/content/drive')\n",
    "#   os.chdir(\"/content/drive/My Drive/SLAss2\")\n",
    "# mount()"
   ]
  },
  {
   "cell_type": "code",
   "execution_count": 3,
   "metadata": {
    "colab": {
     "base_uri": "https://localhost:8080/"
    },
    "id": "WMT6tLnSU7S2",
    "outputId": "c846b07c-9d05-4f94-d993-57ac31132d0d"
   },
   "outputs": [],
   "source": [
    "# train = pd.read_csv(\"dtrain123.dat\", delimiter = \"  \", header = None)\n",
    "test = pd.read_csv(\"data/dtest123.dat\", delimiter = \"  \", header = None, engine = \"python\")\n",
    "train = pd.read_csv(\"data/zipcombo.dat\", delimiter = \" \", header = None, engine = \"python\")\n",
    "train.shape\n",
    "minitrain = pd.read_csv(\"data/dtrain123.dat\", delimiter = \"  \", header = None, engine = \"python\")\n",
    "train = np.array(train)\n",
    "xtrain = train[:,1:257]\n",
    "ytrain = train[:,0]\n",
    "one = np.array(minitrain)\n",
    "xone = one[:, 1:257]\n",
    "yone = one[:,0]\n",
    "test = np.array(test)\n",
    "xtest = test[:, 1:]\n",
    "ytest = test[:,0]\n",
    "def split_data(fullK, jtrain, jtest, y):\n",
    "    Ktrain = fullK[jtrain][:,jtrain].copy()\n",
    "    Ktest =  fullK[jtrain][:,jtest].copy()\n",
    "    ytrain = y[jtrain]\n",
    "    ytest = y[jtest]\n",
    "    return Ktrain, ytrain, Ktest, ytest\n"
   ]
  },
  {
   "cell_type": "code",
   "execution_count": 1,
   "metadata": {
    "scrolled": true
   },
   "outputs": [
    {
     "name": "stdout",
     "output_type": "stream",
     "text": [
      "[1 1 1 0 0 2 2 1 1 0 0 0 0 1 1 1 1 2 1 2 2 2 2 1 1 0 0 0 0 0 1 1 1 1 2 2 2\n",
      " 2 2 1 1 0 0 0 0 1 1 1 1 1 2 2 2 2 2 1 1 2 0 0 1 0 0 1 1 1 2 2 2 0 0 1 1 0\n",
      " 0 0 1 0 0 1 1 1 2 2 2 0 0 1 1 0 0 0 1 0 0 1 0 1 1 0 0 0 0 0 0 0 0 0 0 0 0\n",
      " 1 0 0 1 1 0 0 0 0 0 0 0 0 0 0 1 1 1 0 2 2 2 2 2 1 1 0 0 0 0 0 1 1 2 2 2 2\n",
      " 2 2 2 2 1 2 0 0 0 0 0 1 2 2 2 2 2 2 2 2 1 2 2 0 0 0 0 0 2 2 2 2 2 2 2 1 1\n",
      " 2 2 0 0 0 0 0 2 2 2 2 2 2 2 1 1 1 0 0 0 0 0 0 1 2 2 2 2 2 1 1 1 0 0 0 0 2\n",
      " 2 0 1 2 2 2 2 2 0 1 0 0 0 0 0 2 2 1 1 1 2 2 2 2 0 0 0 0 0 0 2 2 1 1] [0. 0. 1. 1. 1. 1. 1. 0. 1. 0. 1. 0. 2. 1. 0. 0. 2. 2. 2. 2. 2. 1. 2. 0.\n",
      " 0. 2. 2. 2. 1. 1. 0. 0. 1. 2. 2. 2. 1. 1. 2. 1. 1. 0. 0. 1. 2. 0. 0. 2.\n",
      " 2. 1. 2. 1. 2. 2. 1. 2. 2. 1. 0. 2. 0. 2. 2. 2. 1. 2. 2. 2. 2. 2. 1. 2.\n",
      " 2. 2. 1. 1. 1. 2. 1. 1. 0. 1. 1. 1. 0. 1. 1. 1. 0. 1. 1. 1. 1. 1. 2. 1.\n",
      " 2. 1. 2. 2. 1. 0. 2. 0. 2. 0. 2. 1. 2. 0. 1. 1. 0. 2. 1. 2. 1. 1. 2. 2.\n",
      " 1. 1. 2. 2. 2. 2. 1. 0. 1. 2. 1. 2. 0. 1. 2. 2. 1. 1. 2. 2. 1. 1. 0. 1.\n",
      " 2. 2. 1. 1. 2. 2. 2. 2. 1. 2. 1. 1. 1. 0. 2. 1. 2. 1. 1. 2. 1. 2. 2. 1.\n",
      " 2. 2. 0. 2. 2. 1. 2. 2. 2. 0. 2. 2. 1. 2. 2. 2. 2. 2. 0. 2. 0. 0. 2. 1.\n",
      " 2. 1. 2. 2. 2. 2. 2. 0. 2. 2. 0. 2. 1. 1. 2. 0. 2. 2. 2. 1. 2. 2. 2. 1.\n",
      " 1. 2. 2. 2. 1. 2. 0. 2. 0. 0. 0. 0. 0. 0. 2. 0. 1. 0. 2. 0. 0. 0. 2. 0.\n",
      " 2. 1. 1. 1. 1. 2. 1. 0. 2. 1. 0. 0. 1. 0. 1. 1. 1. 2. 1. 1. 2. 0. 2. 1.\n",
      " 2. 1. 0. 2. 2. 1. 2. 1. 2. 1. 1. 2. 1. 2. 1. 0. 1. 1. 1. 1. 0. 2. 1. 1.\n",
      " 0. 1. 2. 0. 0. 1. 2. 0. 2. 0. 1. 2. 2. 0. 1. 1. 2. 2. 2. 2. 1. 0. 2. 1.\n",
      " 1. 2. 0. 0. 1. 0. 1. 2. 2. 1. 1. 2. 2. 0. 2. 0. 1.]\n",
      "0.0\n"
     ]
    },
    {
     "name": "stderr",
     "output_type": "stream",
     "text": [
      "<ipython-input-1-633a3b900226>:77: DeprecationWarning: elementwise comparison failed; this will raise an error in the future.\n",
      "  print(np.mean(model.predict(xone).flatten() == yone.flatten()))\n"
     ]
    }
   ],
   "source": [
    "import numpy as np\n",
    "import time\n",
    "import pandas as pd\n",
    "from sklearn.metrics.pairwise import polynomial_kernel as polykernel\n",
    "test = pd.read_csv(\"data/dtest123.dat\", delimiter = \"  \", header = None, engine = \"python\")\n",
    "train = pd.read_csv(\"data/zipcombo.dat\", delimiter = \" \", header = None, engine = \"python\")\n",
    "train.shape\n",
    "minitrain = pd.read_csv(\"data/dtrain123.dat\", delimiter = \"  \", header = None, engine = \"python\")\n",
    "train = np.array(train)\n",
    "xtrain = train[:,1:257]\n",
    "ytrain = train[:,0]\n",
    "one = np.array(minitrain)\n",
    "xone = one[:, 1:257]\n",
    "yone = one[:,0]\n",
    "test = np.array(test)\n",
    "xtest = test[:, 1:]\n",
    "ytest = test[:,0]\n",
    "class kernel_perceptron:\n",
    "    def __init__(self, N):\n",
    "        self.N = N\n",
    "        self.alpha = np.zeros((self.N, 1))\n",
    "        self.accs = []\n",
    "        self.w = np.zeros((N, 1))\n",
    "    def train(self, K, y, d = 2, epochs = 1, alt = True):\n",
    "        if len(self.alpha) != len(K):\n",
    "            self.N = len(K)\n",
    "            self.alpha = np.zeros((len(K), 1))\n",
    "        for epoch in range(epochs):\n",
    "            js = np.arange(self.N)\n",
    "            np.random.shuffle(js)\n",
    "            for i in js:\n",
    "                yhat = np.sign(np.sign((K[:,i].dot(self.alpha))))\n",
    "                if yhat != y[i]:\n",
    "                    self.alpha[i] += y[i]\n",
    "\n",
    "    def predict(self, Ktest):\n",
    "        return Ktest.T.dot(self.alpha).flatten()\n",
    "\n",
    "class onevsall:\n",
    "    def __init__(self, xtrain, ytrain, kernel = \"poly\", kargs = None):\n",
    "        self.N = len(xtrain)\n",
    "        self.models = []\n",
    "        if kernel == \"poly\":\n",
    "        \tself.K = polykernel(xtrain, degree = 2)\n",
    "        self.y = ytrain\n",
    "    \n",
    "    def train(self):\n",
    "        self.vals = range(int(max(self.y)+1))\n",
    "        if len(self.models) == 0:\n",
    "            self.ytemps = []\n",
    "            for val in self.vals:\n",
    "                ytemp = self.y.copy()\n",
    "                ytemp[ytemp != val] = -1\n",
    "                ytemp[ytemp == val] = 1\n",
    "                self.add_model(ytemp)\n",
    "                self.ytemps.append(ytemp.copy())\n",
    "        for val in self.vals:\n",
    "            self.models[val].train(self.K, self.ytemps[val], epochs = 1)\n",
    "\n",
    "    def add_model(self, ytrain):\n",
    "        model = kernel_perceptron(self.N)\n",
    "        self.models.append(model)\n",
    "    \n",
    "    def predict(self, k, full = False, test = True):\n",
    "        preds = np.zeros((k.shape[1], len(self.models)))\n",
    "        yhat = np.zeros(k.shape[1])\n",
    "        for i, model in enumerate(self.models):\n",
    "            preds[:,i] = model.predict(k)\n",
    "        if full == True:\n",
    "            return preds\n",
    "        return preds.argmax(axis = 1)\n",
    "yone[yone==3] = 0\n",
    "model = onevsall(xone, yone)\n",
    "for i in range(10):\n",
    "\tmodel.train()\n",
    "print(model.predict(xone), yone)\n",
    "print(np.mean(model.predict(xone).flatten() == yone.flatten()))"
   ]
  },
  {
   "cell_type": "code",
   "execution_count": 8,
   "metadata": {},
   "outputs": [
    {
     "data": {
      "text/plain": [
       "(329, 329)"
      ]
     },
     "execution_count": 8,
     "metadata": {},
     "output_type": "execute_result"
    }
   ],
   "source": [
    "polykernel(xone).shape"
   ]
  },
  {
   "cell_type": "code",
   "execution_count": 5,
   "metadata": {
    "scrolled": true
   },
   "outputs": [
    {
     "data": {
      "text/plain": [
       "(256,)"
      ]
     },
     "execution_count": 5,
     "metadata": {},
     "output_type": "execute_result"
    }
   ],
   "source": [
    "model.predict(xone).shape"
   ]
  },
  {
   "cell_type": "code",
   "execution_count": 4,
   "metadata": {},
   "outputs": [
    {
     "data": {
      "text/plain": [
       "(329,)"
      ]
     },
     "execution_count": 4,
     "metadata": {},
     "output_type": "execute_result"
    }
   ],
   "source": [
    "yone.shape"
   ]
  },
  {
   "cell_type": "code",
   "execution_count": 8,
   "metadata": {
    "colab": {
     "base_uri": "https://localhost:8080/",
     "height": 136
    },
    "id": "uGXze1-vkHly",
    "outputId": "38121426-0195-4e7a-d317-4a7ace727195"
   },
   "outputs": [],
   "source": [
    "class kernel_perceptron:\n",
    "    def __init__(self, N):\n",
    "        self.N = N\n",
    "        self.alpha = np.zeros((self.N, 1))\n",
    "        self.accs = []\n",
    "        self.w = np.zeros((N, 1))\n",
    "    def train(self, K, y, d = 2, epochs = 1, alt = True):\n",
    "        if len(self.alpha) != len(K):\n",
    "            self.N = len(K)\n",
    "            self.alpha = np.zeros((len(K), 1))\n",
    "        for epoch in range(epochs):\n",
    "            mistakes = 0\n",
    "            yhats = np.zeros(self.N)\n",
    "            js = np.arange(self.N)\n",
    "            np.random.shuffle(js)\n",
    "            for i in js:\n",
    "                yhat = np.sign(np.sign((K[:,i].dot(self.alpha))))\n",
    "                if yhat != y[i]:\n",
    "                    self.alpha[i] += y[i]\n",
    "                    mistakes += 1\n",
    "                # else:\n",
    "                #     self.alpha[js[i]] = 0\n",
    "                yhats[i] = yhat\n",
    "            self.accs.append(1 - mistakes/self.N)\n",
    "        return yhats\n",
    "\n",
    "    \n",
    "    def predict(self, Ktest):\n",
    "        return Ktest.T.dot(self.alpha).flatten()\n",
    "                \n",
    "def K(p, q, d = 2):\n",
    "    return (p.T.dot(q))**d\n",
    "\n",
    "def GaussK(p, q, c):\n",
    "    print(np.sum((p-q)**2))\n",
    "    return np.exp(-c * np.sum((p-q)**2))\n",
    "\n",
    "class onevsall:\n",
    "    def __init__(self, xtrain, ytrain, xtest = None, ytest = None, kernel = K, d = 2, ks = None):\n",
    "        self.N = len(xtrain)\n",
    "\n",
    "        self.models = []\n",
    "        self.accs = []\n",
    "        self.testaccs = []\n",
    "        self.d = d\n",
    "        self.x, self.xtest = xtrain, xtest\n",
    "        self.y, self.ytest = ytrain, ytest\n",
    "        if ks == None:\n",
    "            self.K = np.zeros((self.N, self.N))\n",
    "            for i in range(self.N):\n",
    "                for j in range(i, self.N):\n",
    "                    # print(self.x[i], self.x[j], d)\n",
    "                    self.K[i,j] = K(self.x[i], self.x[j], d)\n",
    "            self.K = self.K + self.K.T - np.diag(self.K.diagonal())\n",
    "            self.Ktest = np.zeros((self.N, len(self.xtest)))\n",
    "            for i in range(self.N):\n",
    "                for j in range(len(self.xtest)):\n",
    "                    self.Ktest[i,j] = K(self.x[i], self.xtest[j], d)\n",
    "        else:\n",
    "            self.N = len(ks[0])\n",
    "            self.K, self.Ktest = ks\n",
    "    \n",
    "    def train(self, print_accs = True, alt = False):\n",
    "        self.vals = range(int(max(self.y)+1)) # final yval doesn't need model\n",
    "        if len(self.models) == 0:\n",
    "            self.ytemps = []\n",
    "            for val in self.vals:\n",
    "                ytemp = self.y.copy()\n",
    "                ytemp[ytemp != val] = -1\n",
    "                ytemp[ytemp == val] = 1\n",
    "                self.add_model(ytemp)\n",
    "                self.ytemps.append(ytemp.copy())\n",
    "        for val in self.vals:\n",
    "            self.models[val].train(self.K, self.ytemps[val], epochs = 1, alt = alt)\n",
    "\n",
    "        if print_accs:\n",
    "            yhat = self.predict(self.K, self.y)\n",
    "            acc = np.mean(yhat.reshape(len(yhat), 1) == self.y.reshape(len(yhat), 1))\n",
    "            self.accs.append(acc)            \n",
    "            yhattest = self.predict(self.Ktest, self.ytest)\n",
    "            testacc = np.mean(yhattest.reshape(len(yhattest), 1) == self.ytest.reshape(len(yhattest), 1))\n",
    "            self.testaccs.append(testacc)\n",
    "            print(f\"Training Accuracy: {acc}. Testing Accuracy: {testacc}\")\n",
    "\n",
    "    def add_model(self, ytrain):\n",
    "        model = kernel_perceptron(self.N)\n",
    "        # model.train(self.K, ytrain, epochs = epochs, d = self.d)\n",
    "        self.models.append(model)\n",
    "    \n",
    "    def predict(self, k, full = False):\n",
    "        preds = np.zeros((k.shape[1], len(self.models)))\n",
    "        yhat = np.zeros(k.shape[1])\n",
    "        for i, model in enumerate(self.models):\n",
    "            preds[:,i] = model.predict(k)\n",
    "        if full == True:\n",
    "            return preds\n",
    "        return preds.argmax(axis = 1)\n",
    "\n",
    "\n"
   ]
  },
  {
   "cell_type": "code",
   "execution_count": 14,
   "metadata": {},
   "outputs": [],
   "source": [
    "class onevsone:\n",
    "    \n",
    "    def __init__(self, xtrain, ytrain, xtest = None, ytest = None, kernel = K, d = 2, ks = None):\n",
    "        self.N = len(xtrain)\n",
    "\n",
    "        self.models = []\n",
    "        self.accs = []\n",
    "        self.testaccs = []\n",
    "        self.d = d\n",
    "        self.x, self.xtest = xtrain, xtest\n",
    "        self.y, self.ytest = ytrain, ytest\n",
    "        if ks == None:\n",
    "            self.K = np.zeros((self.N, self.N))\n",
    "            for i in range(self.N):\n",
    "                for j in range(i, self.N):\n",
    "                    # print(self.x[i], self.x[j], d)\n",
    "                    self.K[i,j] = K(self.x[i], self.x[j], d)\n",
    "            self.K = self.K + self.K.T - np.diag(self.K.diagonal())\n",
    "            self.Ktest = np.zeros((self.N, len(self.xtest)))\n",
    "            for i in range(self.N):\n",
    "                for j in range(len(self.xtest)):\n",
    "                    self.Ktest[i,j] = K(self.x[i], self.xtest[j], d)\n",
    "        else:\n",
    "            self.N = len(ks[0])\n",
    "            self.K, self.Ktest = ks\n",
    "            \n",
    "    \n",
    "    def train(self, print_accs = True, alt = False):\n",
    "        self.vals = range(int(max(self.y)+1))\n",
    "        self.m = int(max(self.y)+1)\n",
    "        m = self.m\n",
    "        if len(self.models) == 0:\n",
    "            self.Ks = [int(max(self.y+1))*[None] for i in range(int(max(self.y+1)))]\n",
    "            self.ijs = [int(max(self.y+1))*[None] for i in range(int(max(self.y+1)))]\n",
    "            self.ys = [int(max(self.y+1))*[None] for i in range(int(max(self.y+1)))]\n",
    "            self.models = [int(max(self.y+1))*[None] for i in range(int(max(self.y+1)))]\n",
    "            for i in range(0, m):\n",
    "                for j in range(1+i, m):\n",
    "                    ij = np.where((self.y==i)|(self.y==j))[0]\n",
    "                    self.models[i][j] = kernel_perceptron(len(ij))\n",
    "                    ij = np.where((self.y==i)|(self.y==j))[0]\n",
    "                    ktemp = self.K[ij, :]\n",
    "                    ktemp = ktemp[:,ij]\n",
    "                    ktemp = ktemp.squeeze()\n",
    "                    ytemp = self.y[ij]\n",
    "                    ytemp[ytemp == i] = 1\n",
    "                    ytemp[ytemp == j] = -1\n",
    "                    self.Ks[i][j] = ktemp.copy()\n",
    "                    self.ys[i][j] = ytemp.copy()\n",
    "                    self.ijs[i][j] = ij\n",
    "        for i in range(0, m):\n",
    "            for j in range(1+i, m):\n",
    "                self.models[i][j].train(self.Ks[i][j], self.ys[i][j])\n",
    "\n",
    "    \n",
    "    def predict(self, K):\n",
    "        n = K.shape[1]\n",
    "        preds = np.zeros((n, self.m, self.m)) \n",
    "        for i in range(0, self.m):\n",
    "            for j in range(i+1, self.m):\n",
    "                preds[:,i,j] = model.models[i][j].predict(K[self.ijs[i][j],:])\n",
    "        scores = np.zeros((n, 10))\n",
    "        for n, pred in enumerate(preds):\n",
    "            for i in range(10):\n",
    "                scores[n,i] += -np.sum(pred[:i, i]) + np.sum(pred[i,i:])\n",
    "        return np.argmax(scores, axis = 1)"
   ]
  },
  {
   "cell_type": "code",
   "execution_count": 10,
   "metadata": {},
   "outputs": [
    {
     "ename": "TypeError",
     "evalue": "object of type 'NoneType' has no len()",
     "output_type": "error",
     "traceback": [
      "\u001b[1;31m---------------------------------------------------------------------------\u001b[0m",
      "\u001b[1;31mTypeError\u001b[0m                                 Traceback (most recent call last)",
      "\u001b[1;32m<ipython-input-10-5523fb4c793f>\u001b[0m in \u001b[0;36m<module>\u001b[1;34m\u001b[0m\n\u001b[1;32m----> 1\u001b[1;33m \u001b[1;33m[\u001b[0m\u001b[0mlen\u001b[0m\u001b[1;33m(\u001b[0m\u001b[1;32mNone\u001b[0m\u001b[1;33m)\u001b[0m \u001b[1;33m==\u001b[0m \u001b[1;32mNone\u001b[0m\u001b[1;33m]\u001b[0m\u001b[1;33m\u001b[0m\u001b[1;33m\u001b[0m\u001b[0m\n\u001b[0m",
      "\u001b[1;31mTypeError\u001b[0m: object of type 'NoneType' has no len()"
     ]
    }
   ],
   "source": []
  },
  {
   "cell_type": "markdown",
   "metadata": {
    "id": "6pAg-HKLEU2F"
   },
   "source": [
    "## 1.1\n",
    "Average of 20 runs w/ 80/20 split for train and test error"
   ]
  },
  {
   "cell_type": "code",
   "execution_count": 17,
   "metadata": {
    "colab": {
     "base_uri": "https://localhost:8080/"
    },
    "id": "DzUXZcuGEdvO",
    "outputId": "f048875d-7e5e-480e-8aa0-f490d4abdb00"
   },
   "outputs": [
    {
     "name": "stdout",
     "output_type": "stream",
     "text": [
      "DDDDDD: 4\n",
      "4 0\n",
      "[0.99099341 0.957     ]\n",
      "Time Taken: 18.94263005256653\n",
      "DDDDDD: 3\n",
      "3 0\n",
      "[0.98158355 0.945     ]\n",
      "Time Taken: 38.19206953048706\n",
      "DDDDDD: 2\n",
      "2 0\n",
      "[0.96558677 0.956     ]\n",
      "Time Taken: 56.86452293395996\n",
      "DDDDDD: 1\n",
      "1 0\n",
      "[0.87081597 0.838     ]\n",
      "Time Taken: 75.4625985622406\n"
     ]
    }
   ],
   "source": [
    "ntrain = int(0.1*len(xtrain))\n",
    "ntrain = 7439\n",
    "metrics = np.zeros((7, 20, 2))\n",
    "start = time.time()\n",
    "for d in range(4, 0, -1):\n",
    "    print(f\"DDDDDD: {d}\")\n",
    "    fullKd = np.load(f\"Gram Matrices/K{d}\")\n",
    "\n",
    "    for i in range(1):\n",
    "        js = np.arange(len(xtrain))\n",
    "        np.random.shuffle(js)\n",
    "        jtrain = js[:ntrain]\n",
    "        jtest = js[ntrain:ntrain+1000]\n",
    "        # jtrain = np.arange(0, 5000)\n",
    "        # rng = np.random.default_rng()\n",
    "        Ktrain, ytraini, Ktest, ytesti = split_data(fullKd, jtrain, jtest, ytrain)\n",
    "        model = onevsone(xtrain, ytraini, ks = (Ktrain, Ktest))\n",
    "        for epoch in range(10):\n",
    "            model.train()\n",
    "        yhat = model.predict(Ktest)\n",
    "        metrics[d-1,i] = [np.mean(ytraini.reshape(len(ytraini), 1) == model.predict(Ktrain).reshape(len(ytraini), 1)),\n",
    "                          np.mean(ytesti.reshape(len(ytesti), 1) == yhat.reshape(len(ytesti), 1))]\n",
    "        print(d, i)\n",
    "        print(metrics[d-1, i])\n",
    "        np.save(open(\"1.6metrics1.1\", \"wb\"), metrics)\n",
    "        if i==0:\n",
    "            print(f\"Time Taken: {time.time() - start}\")"
   ]
  },
  {
   "cell_type": "markdown",
   "metadata": {},
   "source": [
    "# 1.2"
   ]
  },
  {
   "cell_type": "code",
   "execution_count": null,
   "metadata": {
    "collapsed": true
   },
   "outputs": [
    {
     "name": "stdout",
     "output_type": "stream",
     "text": [
      "Start\n",
      "0 run : 1: 0.9153432032301482, 0, 7\n",
      "0 run : 2: 0.96164199192463, 0.9153432032301482, 1\n",
      "0 run : 3: 0.9652759084791387, 0.96164199192463, 2\n",
      "0 run : 4: 0.9699865410497982, 0.9652759084791387, 3\n",
      "0 run : 5: 0.9694481830417228, 0.9699865410497982, 4\n",
      "0 run : 6: 0.9694481830417228, 0.9699865410497982, 4\n",
      "0 run : 7: 0.9679676985195156, 0.9699865410497982, 4\n",
      "0 runs finished. Dstar: 4, Testerr: 0.01935483870967747, Time: 808.0366711616516\n",
      "1 run : 1: 0.9193808882907133, 0, 7\n",
      "1 run : 2: 0.9612382234185732, 0.9193808882907133, 1\n",
      "1 run : 3: 0.9660834454912517, 0.9612382234185732, 2\n",
      "1 run : 4: 0.9682368775235533, 0.9660834454912517, 3\n",
      "1 run : 5: 0.9690444145356663, 0.9682368775235533, 4\n",
      "1 run : 6: 0.9683714670255721, 0.9690444145356663, 5\n",
      "1 run : 7: 0.9672947510094214, 0.9690444145356663, 5\n",
      "1 runs finished. Dstar: 5, Testerr: 0.027956989247311825, Time: 1610.322770357132\n",
      "2 run : 1: 0.9145356662180351, 0, 7\n",
      "2 run : 2: 0.9602960969044415, 0.9145356662180351, 1\n",
      "2 run : 3: 0.964064602960969, 0.9602960969044415, 2\n",
      "2 run : 4: 0.9693135935397039, 0.964064602960969, 3\n",
      "2 run : 5: 0.9681022880215344, 0.9693135935397039, 4\n",
      "2 run : 6: 0.9672947510094213, 0.9693135935397039, 4\n",
      "2 run : 7: 0.9633916554508748, 0.9693135935397039, 4\n",
      "2 runs finished. Dstar: 4, Testerr: 0.018817204301075252, Time: 2416.5052778720856\n",
      "3 run : 1: 0.9166890982503364, 0, 7\n",
      "3 run : 2: 0.9628532974427996, 0.9166890982503364, 1\n",
      "3 run : 3: 0.9694481830417228, 0.9628532974427996, 2\n",
      "3 run : 4: 0.9714670255720054, 0.9694481830417228, 3\n",
      "3 run : 5: 0.9694481830417229, 0.9714670255720054, 4\n",
      "3 run : 6: 0.9691790040376851, 0.9714670255720054, 4\n",
      "3 run : 7: 0.9678331090174968, 0.9714670255720054, 4\n",
      "3 runs finished. Dstar: 4, Testerr: 0.027956989247311825, Time: 3236.9092824459076\n",
      "4 run : 1: 0.9176312247644685, 0, 7\n",
      "4 run : 2: 0.962314939434724, 0.9176312247644685, 1\n"
     ]
    }
   ],
   "source": [
    "ntrain = int(0.8*len(xtrain))\n",
    "metrics = np.zeros((7, 20, 2))\n",
    "nfold = int(0.8 * ntrain)\n",
    "nfoldtest = int(ntrain - nfold)\n",
    "dstars = np.zeros(20)\n",
    "testerr = np.zeros(20)\n",
    "confusion_matrix = np.zeros((10, 10))\n",
    "print(\"Start\")\n",
    "start = time.time()\n",
    "for i in range(20):\n",
    "    np.random.seed(i+10)\n",
    "    js = np.arange(len(xtrain))\n",
    "    np.random.shuffle(js)\n",
    "    jtrain = js[:ntrain]\n",
    "    jtest = js[ntrain:]\n",
    "    # jtrain = np.arange(0, 5000)\n",
    "    # rng = np.random.default_rng()\n",
    "    bestacc = 0\n",
    "    dstar = 7\n",
    "    for d in range(1, 8):\n",
    "\n",
    "        # split into 80/20\n",
    "        fullKd = np.load(f\"K{d}\")\n",
    "        Ktrain, ytraini, Ktest, ytesti = split2(fullKd, jtrain, jtest, ytrain, ntrain)\n",
    "        # five-fold cross validation\n",
    "        testacc = 0\n",
    "        for k in range(5):\n",
    "            nsplit = int(nfold * k/5)\n",
    "            ktrain1 = np.arange(0, nsplit+1)\n",
    "            ktest = np.arange(nsplit+1, nsplit + nfoldtest-1)\n",
    "            ktrain2 = np.arange(nsplit + nfoldtest-1, nfold)\n",
    "            ktrain = np.hstack([ktrain1, ktrain2]).flatten()\n",
    "            Kfoldtrain, yfoldtraini, Kfoldtest, yfoldtesti = split2(Ktrain, ktrain, ktest, ytraini, nfold)\n",
    "            model = onevsall(yfoldtraini, yfoldtraini, None, yfoldtesti, d = d, ks = (Kfoldtrain, Kfoldtest))\n",
    "            for epoch in range(10):\n",
    "                model.train(False, False)    \n",
    "            yhat = model.predict(Kfoldtest, yfoldtesti)\n",
    "            testacc += 0.2 * np.mean(yhat.flatten() == yfoldtesti.flatten())\n",
    "        print(f\"{i} run : {d}: {testacc}, {bestacc}, {dstar}\")\n",
    "        if testacc > bestacc:\n",
    "            bestacc = testacc\n",
    "            dstar = d\n",
    "#             yhat = model.predict(Ktest)\n",
    "#             testerr[i] = 1 - np.mean(yhat.flatten() == ytesti.flatten())\n",
    "    #train final model for run\n",
    "    fullKd = np.load(f\"K{dstar}\")\n",
    "    Ktrainfinal, ytraini, Ktestfinal, ytesti = split2(fullKd, jtrain, jtest, ytrain, ntrain)\n",
    "    finalmodel = onevsall(ytrain, ytraini, None, ytesti, ks = (Ktrainfinal, Ktestfinal))\n",
    "    for epoch in range(10):\n",
    "        finalmodel.train(False, False)\n",
    "    finalyhat = finalmodel.predict(Ktestfinal, ytesti)\n",
    "    dstars[i] = dstar\n",
    "    testerr[i] = 1 - (finalmodel.predict(finalmodel.Ktest, finalmodel.ytest).flatten() == finalmodel.ytest.flatten()).mean()\n",
    "    print(f\"{i} runs finished. Dstar: {dstar}, Testerr: {testerr[i]}, Time: {time.time() -start}\")\n",
    "    \n",
    "    # confusion matrix\n",
    "    confi = np.zeros((10, 10))\n",
    "    for m in range(len(yhat)):\n",
    "        confi[int(ytesti[m]), int(finalyhat[m])] += 1\n",
    "    confusion_matrix += confi\n",
    "#         metrics[d-1,i] = [np.mean(ytraini.reshape(len(ytraini), 1) == model.predict(Ktrain).reshape(len(ytraini), 1))\n",
    "#                           , np.mean(ytesti.reshape(len(ytesti), 1) == yhat.reshape(len(ytesti), 1))]\n",
    "#         print(d, i)\n",
    "#         print(metrics[d-1, i])\n",
    "#     np.save(open(\"dstars\", \"wb\"), dstars)\n",
    "#     np.save(open(\"12testerr\", \"wb\"), testerr)\n",
    "#     np.save(open(\"conf\", \"wb\"), confusion_matrix)"
   ]
  }
 ],
 "metadata": {
  "colab": {
   "collapsed_sections": [
    "rBm_UkO3xtci"
   ],
   "name": "SL 2: Section 1",
   "provenance": [],
   "toc_visible": true
  },
  "kernelspec": {
   "display_name": "Python 3",
   "language": "python",
   "name": "python3"
  },
  "language_info": {
   "codemirror_mode": {
    "name": "ipython",
    "version": 3
   },
   "file_extension": ".py",
   "mimetype": "text/x-python",
   "name": "python",
   "nbconvert_exporter": "python",
   "pygments_lexer": "ipython3",
   "version": "3.8.3"
  }
 },
 "nbformat": 4,
 "nbformat_minor": 1
}
