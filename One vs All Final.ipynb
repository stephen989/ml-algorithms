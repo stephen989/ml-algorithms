{
 "cells": [
  {
   "cell_type": "code",
   "execution_count": 6,
   "metadata": {
    "colab": {
     "base_uri": "https://localhost:8080/"
    },
    "id": "A96P1D5KTa11",
    "outputId": "236bcba4-f4cf-43c7-c6b4-3ed3b58ed1dd"
   },
   "outputs": [],
   "source": [
    "import numpy as np\n",
    "import pandas as pd\n",
    "import pickle\n",
    "import matplotlib.pyplot as plt\n",
    "import time\n",
    "# from google.colab import drive\n",
    "import os\n",
    "from sklearn.metrics.pairwise import polynomial_kernel as polykernel\n",
    "\n",
    "import gc\n",
    "# def mount():\n",
    "#   drive.mount('/content/drive')\n",
    "#   os.chdir(\"/content/drive/My Drive/SLAss2\")\n",
    "# mount()"
   ]
  },
  {
   "cell_type": "code",
   "execution_count": 56,
   "metadata": {},
   "outputs": [
    {
     "data": {
      "text/plain": [
       "20746.02447524881"
      ]
     },
     "execution_count": 56,
     "metadata": {},
     "output_type": "execute_result"
    }
   ],
   "source": [
    "K(xone[1], xone[0], 2)"
   ]
  },
  {
   "cell_type": "code",
   "execution_count": 55,
   "metadata": {
    "scrolled": true
   },
   "outputs": [
    {
     "data": {
      "text/plain": [
       "array([[40822.7909909 , 20746.02447525,  9031.71850991, ...,\n",
       "         4139.62195993, 13295.91756781,  5925.01607346],\n",
       "       [20746.02447525, 44379.28550446, 17829.28267264, ...,\n",
       "         3649.2412401 , 15336.61309557, 10702.33223561],\n",
       "       [ 9031.71850991, 17829.28267264, 53826.54646212, ...,\n",
       "        11772.30468406,  8143.57831612, 34677.14799323],\n",
       "       ...,\n",
       "       [ 4139.62195993,  3649.2412401 , 11772.30468406, ...,\n",
       "        42905.88590777,  2779.70218094, 10221.50824718],\n",
       "       [13295.91756781, 15336.61309557,  8143.57831612, ...,\n",
       "         2779.70218094, 42941.53087641,  6843.94812607],\n",
       "       [ 5925.01607346, 10702.33223561, 34677.14799323, ...,\n",
       "        10221.50824718,  6843.94812607, 52664.1142667 ]])"
      ]
     },
     "execution_count": 55,
     "metadata": {},
     "output_type": "execute_result"
    }
   ],
   "source": [
    "polykernel(xone, xone, degree = 2, gamma = 1, coef0 = 0)"
   ]
  },
  {
   "cell_type": "code",
   "execution_count": 58,
   "metadata": {},
   "outputs": [],
   "source": [
    "import numpy as np\n",
    "import time\n",
    "import pandas as pd\n",
    "from sklearn.metrics.pairwise import polynomial_kernel as polykernel\n",
    "from scipy.spatial.distance import cdist, pdist, squareform\n",
    "test = pd.read_csv(\"data/dtest123.dat\", delimiter = \"  \", header = None, engine = \"python\")\n",
    "train = pd.read_csv(\"data/zipcombo.dat\", delimiter = \" \", header = None, engine = \"python\")\n",
    "train.shape\n",
    "minitrain = pd.read_csv(\"data/dtrain123.dat\", delimiter = \"  \", header = None, engine = \"python\")\n",
    "train = np.array(train)\n",
    "xtrain = train[:,1:257]\n",
    "ytrain = train[:,0]\n",
    "one = np.array(minitrain)\n",
    "xone = one[:, 1:257]\n",
    "yone = one[:,0]\n",
    "test = np.array(test)\n",
    "xtest = test[:, 1:]\n",
    "ytest = test[:,0]\n",
    "class kernel_perceptron:\n",
    "    def __init__(self, N):\n",
    "        self.N = N\n",
    "        self.alpha = np.zeros((self.N, 1))\n",
    "        self.accs = []\n",
    "        self.w = np.zeros((N, 1))\n",
    "    def train(self, K, y, d = 2, epochs = 1, alt = True):\n",
    "        if len(self.alpha) != len(K):\n",
    "            self.N = len(K)\n",
    "            self.alpha = np.zeros((len(K), 1))\n",
    "        for epoch in range(epochs):\n",
    "            js = np.arange(self.N)\n",
    "            np.random.shuffle(js)\n",
    "            for i in js:\n",
    "                yhat = np.sign(np.sign((K[:,i].dot(self.alpha))))\n",
    "                if yhat != y[i]:\n",
    "                    self.alpha[i] += y[i]\n",
    "\n",
    "    def predict(self, Ktest):\n",
    "        return Ktest.T.dot(self.alpha).flatten()\n",
    "\n",
    "class onevsall:\n",
    "    def __init__(self, xtrain, ytrain, kernel = \"poly\", karg = \"Default\"):\n",
    "        self.N = len(xtrain)\n",
    "        self.models = []\n",
    "        self.x = xtrain\n",
    "        if kernel == \"poly\":\n",
    "            degree = karg if karg != \"Default\" else 2\n",
    "            self.K = polykernel(xtrain, xtrain, degree = degree, gamma = 1, coef0 = 0)\n",
    "            self.K /= self.K.max()\n",
    "        elif kernel == \"rbf\":\n",
    "            c = karg if karg != \"Default\" else 1\n",
    "            edist = squareform(pdist(xtrain, metric = \"euclidean\"))**2\n",
    "            self.K = np.exp(-c * edist/edist.max())\n",
    "        else:\n",
    "            raise ValueError(\"Invalid Kernel Specified. Must be poly or rbf\")\n",
    "\n",
    "\n",
    "\n",
    "        self.y = ytrain\n",
    "    \n",
    "    def train(self):\n",
    "        self.vals = range(int(max(self.y)+1))\n",
    "        if len(self.models) == 0:\n",
    "            self.ytemps = []\n",
    "            for val in self.vals:\n",
    "                ytemp = self.y.copy()\n",
    "                ytemp[ytemp != val] = -1\n",
    "                ytemp[ytemp == val] = 1\n",
    "                self.add_model(ytemp)\n",
    "                self.ytemps.append(ytemp.copy())\n",
    "        for val in self.vals:\n",
    "            self.models[val].train(self.K, self.ytemps[val], epochs = 1)\n",
    "\n",
    "    def add_model(self, ytrain):\n",
    "        model = kernel_perceptron(self.N)\n",
    "        self.models.append(model)\n",
    "    \n",
    "    def predict(self, x, full = False, test = True):\n",
    "        ktest = polykernel(self.x, x, degree = 2)\n",
    "        preds = np.zeros((len(x), len(self.models)))\n",
    "        for i, model in enumerate(self.models):\n",
    "            preds[:,i] = model.predict(ktest)\n",
    "        if full == True:\n",
    "            return preds\n",
    "        return preds.argmax(axis = 1)\n",
    "\n",
    "\n",
    "class onevsone:\n",
    "    \n",
    "    def __init__(self, xtrain, ytrain, kernel = \"poly\", d = 2, ks = None):\n",
    "        self.N = len(xtrain)\n",
    "            \n",
    "    \n",
    "    def train(self, print_accs = True, alt = False):\n",
    "        self.vals = range(int(max(self.y)+1))\n",
    "        self.m = int(max(self.y)+1)\n",
    "        m = self.m\n",
    "        if len(self.models) == 0:\n",
    "            self.Ks = [int(max(self.y+1))*[None] for i in range(int(max(self.y+1)))]\n",
    "            self.ijs = [int(max(self.y+1))*[None] for i in range(int(max(self.y+1)))]\n",
    "            self.ys = [int(max(self.y+1))*[None] for i in range(int(max(self.y+1)))]\n",
    "            self.models = [int(max(self.y+1))*[None] for i in range(int(max(self.y+1)))]\n",
    "            for i in range(0, m):\n",
    "                for j in range(1+i, m):\n",
    "                    ij = np.where((self.y==i)|(self.y==j))[0]\n",
    "                    self.models[i][j] = kernel_perceptron(len(ij))\n",
    "                    ij = np.where((self.y==i)|(self.y==j))[0]\n",
    "                    ktemp = self.K[ij, :]\n",
    "                    ktemp = ktemp[:,ij]\n",
    "                    ktemp = ktemp.squeeze()\n",
    "                    ytemp = self.y[ij]\n",
    "                    ytemp[ytemp == i] = 1\n",
    "                    ytemp[ytemp == j] = -1\n",
    "                    self.Ks[i][j] = ktemp.copy()\n",
    "                    self.ys[i][j] = ytemp.copy()\n",
    "                    self.ijs[i][j] = ij\n",
    "        for i in range(0, m):\n",
    "            for j in range(1+i, m):\n",
    "                self.models[i][j].train(self.Ks[i][j], self.ys[i][j])\n",
    "\n",
    "    \n",
    "    def predict(self, K):\n",
    "        n = K.shape[1]\n",
    "        preds = np.zeros((n, self.m, self.m)) \n",
    "        for i in range(0, self.m):\n",
    "            for j in range(i+1, self.m):\n",
    "                preds[:,i,j] = model.models[i][j].predict(K[self.ijs[i][j],:])\n",
    "        scores = np.zeros((n, 10))\n",
    "        for n, pred in enumerate(preds):\n",
    "            for i in range(10):\n",
    "                scores[n,i] += -np.sum(pred[:i, i]) + np.sum(pred[i,i:])\n",
    "        return np.argmax(scores, axis = 1).flatten()\n",
    "\n",
    "\n",
    "# model = onevsall(xtrain, ytrain, \"poly\", 4)\n",
    "# for i in range(10):\n",
    "#     model.train()\n",
    "#     print(np.mean(model.predict(xtrain) == ytrain.flatten()))"
   ]
  },
  {
   "cell_type": "code",
   "execution_count": 60,
   "metadata": {},
   "outputs": [
    {
     "name": "stdout",
     "output_type": "stream",
     "text": [
      "0.5501519756838906\n",
      "0.5775075987841946\n",
      "0.47112462006079026\n",
      "0.47112462006079026\n",
      "0.47112462006079026\n",
      "0.47112462006079026\n",
      "0.47112462006079026\n",
      "0.47112462006079026\n",
      "0.47112462006079026\n",
      "0.47112462006079026\n"
     ]
    }
   ],
   "source": [
    "yone[yone==3] = 0\n",
    "model = onevsall(xone, yone, \"poly\", 2)\n",
    "for i in range(10):\n",
    "    model.train()\n",
    "    print(np.mean(model.predict(xone) == yone.flatten()))"
   ]
  },
  {
   "cell_type": "code",
   "execution_count": 44,
   "metadata": {},
   "outputs": [
    {
     "data": {
      "text/plain": [
       "array([[0.47295916, 0.12312053, 0.02366825, ..., 0.00507172, 0.05091887,\n",
       "        0.01028593],\n",
       "       [0.12312053, 0.5585073 , 0.09113198, ..., 0.00395702, 0.06758831,\n",
       "        0.03312149],\n",
       "       [0.02366825, 0.09113198, 0.82017428, ..., 0.04000387, 0.01928486,\n",
       "        0.34184723],\n",
       "       ...,\n",
       "       [0.00507172, 0.00395702, 0.04000387, ..., 0.52220583, 0.00231781,\n",
       "        0.03023915],\n",
       "       [0.05091887, 0.06758831, 0.01928486, ..., 0.00231781, 0.52306968,\n",
       "        0.01367501],\n",
       "       [0.01028593, 0.03312149, 0.34184723, ..., 0.03023915, 0.01367501,\n",
       "        0.78527996]])"
      ]
     },
     "execution_count": 44,
     "metadata": {},
     "output_type": "execute_result"
    }
   ],
   "source": [
    "model.K"
   ]
  },
  {
   "cell_type": "markdown",
   "metadata": {},
   "source": [
    "# Import Data"
   ]
  },
  {
   "cell_type": "code",
   "execution_count": 3,
   "metadata": {
    "colab": {
     "base_uri": "https://localhost:8080/"
    },
    "id": "WMT6tLnSU7S2",
    "outputId": "c846b07c-9d05-4f94-d993-57ac31132d0d"
   },
   "outputs": [
    {
     "name": "stderr",
     "output_type": "stream",
     "text": [
      "<ipython-input-3-92240ef60454>:2: ParserWarning: Falling back to the 'python' engine because the 'c' engine does not support regex separators (separators > 1 char and different from '\\s+' are interpreted as regex); you can avoid this warning by specifying engine='python'.\n",
      "  test = pd.read_csv(\"data/dtest123.dat\", delimiter = \"  \", header = None)\n",
      "<ipython-input-3-92240ef60454>:5: ParserWarning: Falling back to the 'python' engine because the 'c' engine does not support regex separators (separators > 1 char and different from '\\s+' are interpreted as regex); you can avoid this warning by specifying engine='python'.\n",
      "  minitrain = pd.read_csv(\"data/dtrain123.dat\", delimiter = \"  \", header = None)\n"
     ]
    }
   ],
   "source": [
    "# train = pd.read_csv(\"dtrain123.dat\", delimiter = \"  \", header = None)\n",
    "test = pd.read_csv(\"data/dtest123.dat\", delimiter = \"  \", header = None)\n",
    "train = pd.read_csv(\"data/zipcombo.dat\", delimiter = \" \", header = None)\n",
    "train.shape\n",
    "minitrain = pd.read_csv(\"data/dtrain123.dat\", delimiter = \"  \", header = None)\n",
    "train = np.array(train)\n",
    "xtrain = train[:,1:257]\n",
    "ytrain = train[:,0]\n",
    "one = np.array(minitrain)\n",
    "xone = one[:, 1:257]\n",
    "yone = one[:,0]\n",
    "test = np.array(test)\n",
    "xtest = test[:, 1:]\n",
    "ytest = test[:,0]\n",
    "def split_data(fullK, jtrain, jtest, y):\n",
    "    Ktrain = fullK[jtrain][:,jtrain].copy()\n",
    "    Ktest =  fullK[jtrain][:,jtest].copy()\n",
    "    ytrain = y[jtrain]\n",
    "    ytest = y[jtest]\n",
    "    return Ktrain, ytrain, Ktest, ytest\n"
   ]
  },
  {
   "cell_type": "code",
   "execution_count": null,
   "metadata": {},
   "outputs": [],
   "source": [
    "import sklearn\n",
    "sklearn.metrics.pairwise.polynomial_kernel(X, Y=None, degree=3, gamma=None, coef0=1)"
   ]
  },
  {
   "cell_type": "code",
   "execution_count": 49,
   "metadata": {
    "colab": {
     "base_uri": "https://localhost:8080/",
     "height": 136
    },
    "id": "uGXze1-vkHly",
    "outputId": "38121426-0195-4e7a-d317-4a7ace727195"
   },
   "outputs": [],
   "source": [
    "class kernel_perceptron:\n",
    "    def __init__(self, N):\n",
    "        self.N = N\n",
    "        self.alpha = np.zeros((self.N, 1))\n",
    "        self.accs = []\n",
    "        self.w = np.zeros((N, 1))\n",
    "    def train(self, K, y, d = 2, epochs = 1, alt = True):\n",
    "        if len(self.alpha) != len(K):\n",
    "            self.N = len(K)\n",
    "            self.alpha = np.zeros((len(K), 1))\n",
    "        for epoch in range(epochs):\n",
    "            mistakes = 0\n",
    "            yhats = np.zeros(self.N)\n",
    "            js = np.arange(self.N)\n",
    "            np.random.shuffle(js)\n",
    "            for i in js:\n",
    "                yhat = np.sign(np.sign((K[:,i].dot(self.alpha))))\n",
    "                if yhat != y[i]:\n",
    "                    self.alpha[i] += y[i]\n",
    "                    mistakes += 1\n",
    "                # else:\n",
    "                #     self.alpha[js[i]] = 0\n",
    "                yhats[i] = yhat\n",
    "            self.accs.append(1 - mistakes/self.N)\n",
    "        return yhats\n",
    "\n",
    "    \n",
    "    def predict(self, Ktest):\n",
    "        return Ktest.T.dot(self.alpha).flatten()\n",
    "                \n",
    "def K(p, q, d = 2):\n",
    "    return (p.T.dot(q))**d\n",
    "\n",
    "def GaussK(p, q, c):\n",
    "    print(np.sum((p-q)**2))\n",
    "    return np.exp(-c * np.sum((p-q)**2))\n",
    "\n",
    "class onevsall:\n",
    "    def __init__(self, xtrain, ytrain, xtest = None, ytest = None, kernel = K, d = 2, ks = None):\n",
    "        self.N = len(xtrain)\n",
    "\n",
    "        self.models = []\n",
    "        self.accs = []\n",
    "        self.testaccs = []\n",
    "        self.d = d\n",
    "        self.x, self.xtest = xtrain, xtest\n",
    "        self.y, self.ytest = ytrain, ytest\n",
    "        if ks == None:\n",
    "            self.K = np.zeros((self.N, self.N))\n",
    "            for i in range(self.N):\n",
    "                for j in range(i, self.N):\n",
    "                    # print(self.x[i], self.x[j], d)\n",
    "                    self.K[i,j] = K(self.x[i], self.x[j], d)\n",
    "            self.K = self.K + self.K.T - np.diag(self.K.diagonal())\n",
    "            self.Ktest = np.zeros((self.N, len(self.xtest)))\n",
    "            for i in range(self.N):\n",
    "                for j in range(len(self.xtest)):\n",
    "                    self.Ktest[i,j] = K(self.x[i], self.xtest[j], d)\n",
    "        else:\n",
    "            self.N = len(ks[0])\n",
    "            self.K, self.Ktest = ks\n",
    "    \n",
    "    def train(self, print_accs = True, alt = False):\n",
    "        self.vals = range(int(max(self.y)+1)) # final yval doesn't need model\n",
    "        if len(self.models) == 0:\n",
    "            self.ytemps = []\n",
    "            for val in self.vals:\n",
    "                ytemp = self.y.copy()\n",
    "                ytemp[ytemp != val] = -1\n",
    "                ytemp[ytemp == val] = 1\n",
    "                self.add_model(ytemp)\n",
    "                self.ytemps.append(ytemp.copy())\n",
    "        for val in self.vals:\n",
    "            self.models[val].train(self.K, self.ytemps[val], epochs = 1, alt = alt)\n",
    "\n",
    "        if print_accs:\n",
    "            yhat = self.predict(self.K, self.y)\n",
    "            acc = np.mean(yhat.reshape(len(yhat), 1) == self.y.reshape(len(yhat), 1))\n",
    "            self.accs.append(acc)            \n",
    "            yhattest = self.predict(self.Ktest, self.ytest)\n",
    "            testacc = np.mean(yhattest.reshape(len(yhattest), 1) == self.ytest.reshape(len(yhattest), 1))\n",
    "            self.testaccs.append(testacc)\n",
    "            print(f\"Training Accuracy: {acc}. Testing Accuracy: {testacc}\")\n",
    "\n",
    "    def add_model(self, ytrain):\n",
    "        model = kernel_perceptron(self.N)\n",
    "        # model.train(self.K, ytrain, epochs = epochs, d = self.d)\n",
    "        self.models.append(model)\n",
    "    \n",
    "    def predict(self, k, full = False, test = True):\n",
    "        preds = np.zeros((k.shape[1], len(self.models)))\n",
    "        yhat = np.zeros(k.shape[1])\n",
    "        for i, model in enumerate(self.models):\n",
    "            preds[:,i] = model.predict(k)\n",
    "        if full == True:\n",
    "            return preds\n",
    "        return preds.argmax(axis = 1)\n",
    "\n",
    "\n"
   ]
  },
  {
   "cell_type": "markdown",
   "metadata": {},
   "source": [
    "## Testing OVO Approach"
   ]
  },
  {
   "cell_type": "code",
   "execution_count": 5,
   "metadata": {},
   "outputs": [],
   "source": [
    "Kfull = np.load(\"Gram Matrices/K2\")"
   ]
  },
  {
   "cell_type": "code",
   "execution_count": 105,
   "metadata": {},
   "outputs": [
    {
     "data": {
      "image/png": "[encoded data removed]",
      "text/plain": [
       "<Figure size 864x864 with 5 Axes>"
      ]
     },
     "metadata": {},
     "output_type": "display_data"
    }
   ],
   "source": [
    "n = len(hardys)\n",
    "fig, ax = plt.subplots(1, 5, figsize = (12, 12))\n",
    "for i in range(n):\n",
    "    ax[i].imshow(xtrain[hardys[i]].reshape(16, 16), cmap = \"binary\")\n",
    "    ax[i].set(xticks = [], yticks = [], xlabel = int(ytrain[hardys[i]]))\n",
    "    "
   ]
  },
  {
   "cell_type": "markdown",
   "metadata": {
    "id": "6pAg-HKLEU2F"
   },
   "source": [
    "## 1.1\n",
    "Average of 20 runs w/ 80/20 split for train and test error"
   ]
  },
  {
   "cell_type": "code",
   "execution_count": 12,
   "metadata": {
    "colab": {
     "base_uri": "https://localhost:8080/"
    },
    "collapsed": true,
    "id": "DzUXZcuGEdvO",
    "outputId": "f048875d-7e5e-480e-8aa0-f490d4abdb00"
   },
   "outputs": [
    {
     "name": "stdout",
     "output_type": "stream",
     "text": [
      "DDDDDD: 4\n",
      "[1.    0.934]\n",
      "Time Taken: 4.534708499908447\n",
      "[0.99946208 0.952     ]\n",
      "[1.   0.95]\n",
      "[0.99946208 0.954     ]\n",
      "[1.    0.962]\n",
      "[0.99946208 0.954     ]\n",
      "[1.    0.966]\n",
      "[1.   0.95]\n"
     ]
    },
    {
     "ename": "KeyboardInterrupt",
     "evalue": "",
     "output_type": "error",
     "traceback": [
      "\u001b[1;31m---------------------------------------------------------------------------\u001b[0m",
      "\u001b[1;31mKeyboardInterrupt\u001b[0m                         Traceback (most recent call last)",
      "\u001b[1;32m<ipython-input-12-a388abf42223>\u001b[0m in \u001b[0;36m<module>\u001b[1;34m\u001b[0m\n\u001b[0;32m     15\u001b[0m         \u001b[0mmodel\u001b[0m \u001b[1;33m=\u001b[0m \u001b[0monevsall\u001b[0m\u001b[1;33m(\u001b[0m\u001b[0mytraini\u001b[0m\u001b[1;33m,\u001b[0m \u001b[0mytraini\u001b[0m\u001b[1;33m,\u001b[0m \u001b[1;32mNone\u001b[0m\u001b[1;33m,\u001b[0m \u001b[0mytesti\u001b[0m\u001b[1;33m,\u001b[0m \u001b[0md\u001b[0m \u001b[1;33m=\u001b[0m \u001b[0md\u001b[0m\u001b[1;33m,\u001b[0m \u001b[0mks\u001b[0m \u001b[1;33m=\u001b[0m \u001b[1;33m(\u001b[0m\u001b[0mKtrain\u001b[0m\u001b[1;33m,\u001b[0m \u001b[0mKtest\u001b[0m\u001b[1;33m)\u001b[0m\u001b[1;33m)\u001b[0m\u001b[1;33m\u001b[0m\u001b[1;33m\u001b[0m\u001b[0m\n\u001b[0;32m     16\u001b[0m         \u001b[1;32mfor\u001b[0m \u001b[0mepoch\u001b[0m \u001b[1;32min\u001b[0m \u001b[0mrange\u001b[0m\u001b[1;33m(\u001b[0m\u001b[1;36m10\u001b[0m\u001b[1;33m)\u001b[0m\u001b[1;33m:\u001b[0m\u001b[1;33m\u001b[0m\u001b[1;33m\u001b[0m\u001b[0m\n\u001b[1;32m---> 17\u001b[1;33m             \u001b[0mmodel\u001b[0m\u001b[1;33m.\u001b[0m\u001b[0mtrain\u001b[0m\u001b[1;33m(\u001b[0m\u001b[1;32mFalse\u001b[0m\u001b[1;33m)\u001b[0m\u001b[1;33m\u001b[0m\u001b[1;33m\u001b[0m\u001b[0m\n\u001b[0m\u001b[0;32m     18\u001b[0m         \u001b[0myhat\u001b[0m \u001b[1;33m=\u001b[0m \u001b[0mmodel\u001b[0m\u001b[1;33m.\u001b[0m\u001b[0mpredict\u001b[0m\u001b[1;33m(\u001b[0m\u001b[0mKtest\u001b[0m\u001b[1;33m)\u001b[0m\u001b[1;33m\u001b[0m\u001b[1;33m\u001b[0m\u001b[0m\n\u001b[0;32m     19\u001b[0m         metrics[d-1,i] = [np.mean(ytraini.reshape(len(ytraini), 1) == model.predict(Ktrain).reshape(len(ytraini), 1))\n",
      "\u001b[1;32m<ipython-input-11-b1dd41c0ba13>\u001b[0m in \u001b[0;36mtrain\u001b[1;34m(self, print_accs, alt)\u001b[0m\n\u001b[0;32m     72\u001b[0m                 \u001b[0mself\u001b[0m\u001b[1;33m.\u001b[0m\u001b[0mytemps\u001b[0m\u001b[1;33m.\u001b[0m\u001b[0mappend\u001b[0m\u001b[1;33m(\u001b[0m\u001b[0mytemp\u001b[0m\u001b[1;33m.\u001b[0m\u001b[0mcopy\u001b[0m\u001b[1;33m(\u001b[0m\u001b[1;33m)\u001b[0m\u001b[1;33m)\u001b[0m\u001b[1;33m\u001b[0m\u001b[1;33m\u001b[0m\u001b[0m\n\u001b[0;32m     73\u001b[0m         \u001b[1;32mfor\u001b[0m \u001b[0mval\u001b[0m \u001b[1;32min\u001b[0m \u001b[0mself\u001b[0m\u001b[1;33m.\u001b[0m\u001b[0mvals\u001b[0m\u001b[1;33m:\u001b[0m\u001b[1;33m\u001b[0m\u001b[1;33m\u001b[0m\u001b[0m\n\u001b[1;32m---> 74\u001b[1;33m             \u001b[0mself\u001b[0m\u001b[1;33m.\u001b[0m\u001b[0mmodels\u001b[0m\u001b[1;33m[\u001b[0m\u001b[0mval\u001b[0m\u001b[1;33m]\u001b[0m\u001b[1;33m.\u001b[0m\u001b[0mtrain\u001b[0m\u001b[1;33m(\u001b[0m\u001b[0mself\u001b[0m\u001b[1;33m.\u001b[0m\u001b[0mK\u001b[0m\u001b[1;33m,\u001b[0m \u001b[0mself\u001b[0m\u001b[1;33m.\u001b[0m\u001b[0mytemps\u001b[0m\u001b[1;33m[\u001b[0m\u001b[0mval\u001b[0m\u001b[1;33m]\u001b[0m\u001b[1;33m,\u001b[0m \u001b[0mepochs\u001b[0m \u001b[1;33m=\u001b[0m \u001b[1;36m1\u001b[0m\u001b[1;33m,\u001b[0m \u001b[0malt\u001b[0m \u001b[1;33m=\u001b[0m \u001b[0malt\u001b[0m\u001b[1;33m)\u001b[0m\u001b[1;33m\u001b[0m\u001b[1;33m\u001b[0m\u001b[0m\n\u001b[0m\u001b[0;32m     75\u001b[0m \u001b[1;33m\u001b[0m\u001b[0m\n\u001b[0;32m     76\u001b[0m         \u001b[1;32mif\u001b[0m \u001b[0mprint_accs\u001b[0m\u001b[1;33m:\u001b[0m\u001b[1;33m\u001b[0m\u001b[1;33m\u001b[0m\u001b[0m\n",
      "\u001b[1;32m<ipython-input-11-b1dd41c0ba13>\u001b[0m in \u001b[0;36mtrain\u001b[1;34m(self, K, y, d, epochs, alt)\u001b[0m\n\u001b[0;32m     15\u001b[0m             \u001b[0mnp\u001b[0m\u001b[1;33m.\u001b[0m\u001b[0mrandom\u001b[0m\u001b[1;33m.\u001b[0m\u001b[0mshuffle\u001b[0m\u001b[1;33m(\u001b[0m\u001b[0mjs\u001b[0m\u001b[1;33m)\u001b[0m\u001b[1;33m\u001b[0m\u001b[1;33m\u001b[0m\u001b[0m\n\u001b[0;32m     16\u001b[0m             \u001b[1;32mfor\u001b[0m \u001b[0mi\u001b[0m \u001b[1;32min\u001b[0m \u001b[0mjs\u001b[0m\u001b[1;33m:\u001b[0m\u001b[1;33m\u001b[0m\u001b[1;33m\u001b[0m\u001b[0m\n\u001b[1;32m---> 17\u001b[1;33m                 \u001b[0myhat\u001b[0m \u001b[1;33m=\u001b[0m \u001b[0mnp\u001b[0m\u001b[1;33m.\u001b[0m\u001b[0msign\u001b[0m\u001b[1;33m(\u001b[0m\u001b[0mnp\u001b[0m\u001b[1;33m.\u001b[0m\u001b[0msign\u001b[0m\u001b[1;33m(\u001b[0m\u001b[1;33m(\u001b[0m\u001b[0mK\u001b[0m\u001b[1;33m[\u001b[0m\u001b[1;33m:\u001b[0m\u001b[1;33m,\u001b[0m\u001b[0mi\u001b[0m\u001b[1;33m]\u001b[0m\u001b[1;33m.\u001b[0m\u001b[0mdot\u001b[0m\u001b[1;33m(\u001b[0m\u001b[0mself\u001b[0m\u001b[1;33m.\u001b[0m\u001b[0malpha\u001b[0m\u001b[1;33m)\u001b[0m\u001b[1;33m)\u001b[0m\u001b[1;33m)\u001b[0m\u001b[1;33m)\u001b[0m\u001b[1;33m\u001b[0m\u001b[1;33m\u001b[0m\u001b[0m\n\u001b[0m\u001b[0;32m     18\u001b[0m                 \u001b[1;32mif\u001b[0m \u001b[0myhat\u001b[0m \u001b[1;33m!=\u001b[0m \u001b[0my\u001b[0m\u001b[1;33m[\u001b[0m\u001b[0mi\u001b[0m\u001b[1;33m]\u001b[0m\u001b[1;33m:\u001b[0m\u001b[1;33m\u001b[0m\u001b[1;33m\u001b[0m\u001b[0m\n\u001b[0;32m     19\u001b[0m                     \u001b[0mself\u001b[0m\u001b[1;33m.\u001b[0m\u001b[0malpha\u001b[0m\u001b[1;33m[\u001b[0m\u001b[0mi\u001b[0m\u001b[1;33m]\u001b[0m \u001b[1;33m+=\u001b[0m \u001b[0my\u001b[0m\u001b[1;33m[\u001b[0m\u001b[0mi\u001b[0m\u001b[1;33m]\u001b[0m\u001b[1;33m\u001b[0m\u001b[1;33m\u001b[0m\u001b[0m\n",
      "\u001b[1;31mKeyboardInterrupt\u001b[0m: "
     ]
    }
   ],
   "source": [
    "ntrain = int(0.2*len(xtrain))\n",
    "metrics = np.zeros((7, 20, 2))\n",
    "start = time.time()\n",
    "for d in range(4, 0, -1):\n",
    "    print(f\"DDDDDD: {d}\")\n",
    "    fullKd = np.load(f\"Gram Matrices/K{d}\")    \n",
    "    for i in range(1):\n",
    "        js = np.arange(len(xtrain))\n",
    "        np.random.shuffle(js)\n",
    "        jtrain = js[:ntrain]\n",
    "        jtest = js[ntrain:ntrain + 500]\n",
    "        # jtrain = np.arange(0, 5000)\n",
    "        # rng = np.random.default_rng()\n",
    "        Ktrain, ytraini, Ktest, ytesti = split_data(fullKd, jtrain, jtest, ytrain)\n",
    "        model = onevsall(ytraini, ytraini, None, ytesti, d = d, ks = (Ktrain, Ktest))\n",
    "        for epoch in range(10):\n",
    "            model.train(False)\n",
    "        yhat = model.predict(Ktest)\n",
    "        metrics[d-1,i] = [np.mean(ytraini.reshape(len(ytraini), 1) == model.predict(Ktrain).reshape(len(ytraini), 1))\n",
    "                          , np.mean(ytesti.reshape(len(ytesti), 1) == yhat.reshape(len(ytesti), 1))]\n",
    "        print(metrics[d-1, i])\n",
    "        np.save(open(\"metrics\", \"wb\"), metrics)\n",
    "        if i==0:\n",
    "            print(f\"Time Taken: {time.time() - start}\")"
   ]
  },
  {
   "cell_type": "code",
   "execution_count": 16,
   "metadata": {},
   "outputs": [],
   "source": [
    "np.save(open(\"11\", \"wb\"), np.hstack((means, stds)))"
   ]
  },
  {
   "cell_type": "markdown",
   "metadata": {},
   "source": [
    "# 1.2"
   ]
  },
  {
   "cell_type": "code",
   "execution_count": 37,
   "metadata": {
    "collapsed": true
   },
   "outputs": [
    {
     "name": "stdout",
     "output_type": "stream",
     "text": [
      "Start\n",
      "0 run : 1: 0.9069986541049798, 0, 7\n"
     ]
    },
    {
     "ename": "KeyboardInterrupt",
     "evalue": "",
     "output_type": "error",
     "traceback": [
      "\u001b[1;31m---------------------------------------------------------------------------\u001b[0m",
      "\u001b[1;31mKeyboardInterrupt\u001b[0m                         Traceback (most recent call last)",
      "\u001b[1;32m<ipython-input-37-0992bf69297d>\u001b[0m in \u001b[0;36m<module>\u001b[1;34m\u001b[0m\n\u001b[0;32m     54\u001b[0m     \u001b[0mfinalmodel\u001b[0m \u001b[1;33m=\u001b[0m \u001b[0monevsall\u001b[0m\u001b[1;33m(\u001b[0m\u001b[0mytrain\u001b[0m\u001b[1;33m,\u001b[0m \u001b[0mytraini\u001b[0m\u001b[1;33m,\u001b[0m \u001b[1;32mNone\u001b[0m\u001b[1;33m,\u001b[0m \u001b[0mytesti\u001b[0m\u001b[1;33m,\u001b[0m \u001b[0mks\u001b[0m \u001b[1;33m=\u001b[0m \u001b[1;33m(\u001b[0m\u001b[0mKtrainfinal\u001b[0m\u001b[1;33m,\u001b[0m \u001b[0mKtestfinal\u001b[0m\u001b[1;33m)\u001b[0m\u001b[1;33m)\u001b[0m\u001b[1;33m\u001b[0m\u001b[1;33m\u001b[0m\u001b[0m\n\u001b[0;32m     55\u001b[0m     \u001b[1;32mfor\u001b[0m \u001b[0mepoch\u001b[0m \u001b[1;32min\u001b[0m \u001b[0mrange\u001b[0m\u001b[1;33m(\u001b[0m\u001b[1;36m10\u001b[0m\u001b[1;33m)\u001b[0m\u001b[1;33m:\u001b[0m\u001b[1;33m\u001b[0m\u001b[1;33m\u001b[0m\u001b[0m\n\u001b[1;32m---> 56\u001b[1;33m         \u001b[0mfinalmodel\u001b[0m\u001b[1;33m.\u001b[0m\u001b[0mtrain\u001b[0m\u001b[1;33m(\u001b[0m\u001b[1;32mFalse\u001b[0m\u001b[1;33m,\u001b[0m \u001b[1;32mFalse\u001b[0m\u001b[1;33m)\u001b[0m\u001b[1;33m\u001b[0m\u001b[1;33m\u001b[0m\u001b[0m\n\u001b[0m\u001b[0;32m     57\u001b[0m     \u001b[0mfinalyhat\u001b[0m \u001b[1;33m=\u001b[0m \u001b[0mfinalmodel\u001b[0m\u001b[1;33m.\u001b[0m\u001b[0mpredict\u001b[0m\u001b[1;33m(\u001b[0m\u001b[0mKtestfinal\u001b[0m\u001b[1;33m,\u001b[0m \u001b[0mytesti\u001b[0m\u001b[1;33m)\u001b[0m\u001b[1;33m\u001b[0m\u001b[1;33m\u001b[0m\u001b[0m\n\u001b[0;32m     58\u001b[0m     \u001b[0mdstars\u001b[0m\u001b[1;33m[\u001b[0m\u001b[0mi\u001b[0m\u001b[1;33m]\u001b[0m \u001b[1;33m=\u001b[0m \u001b[0mdstar\u001b[0m\u001b[1;33m\u001b[0m\u001b[1;33m\u001b[0m\u001b[0m\n",
      "\u001b[1;32m<ipython-input-24-79122fff677a>\u001b[0m in \u001b[0;36mtrain\u001b[1;34m(self, print_accs, alt)\u001b[0m\n\u001b[0;32m     81\u001b[0m                 \u001b[0mself\u001b[0m\u001b[1;33m.\u001b[0m\u001b[0mytemps\u001b[0m\u001b[1;33m.\u001b[0m\u001b[0mappend\u001b[0m\u001b[1;33m(\u001b[0m\u001b[0mytemp\u001b[0m\u001b[1;33m.\u001b[0m\u001b[0mcopy\u001b[0m\u001b[1;33m(\u001b[0m\u001b[1;33m)\u001b[0m\u001b[1;33m)\u001b[0m\u001b[1;33m\u001b[0m\u001b[1;33m\u001b[0m\u001b[0m\n\u001b[0;32m     82\u001b[0m         \u001b[1;32mfor\u001b[0m \u001b[0mval\u001b[0m \u001b[1;32min\u001b[0m \u001b[0mself\u001b[0m\u001b[1;33m.\u001b[0m\u001b[0mvals\u001b[0m\u001b[1;33m:\u001b[0m\u001b[1;33m\u001b[0m\u001b[1;33m\u001b[0m\u001b[0m\n\u001b[1;32m---> 83\u001b[1;33m             \u001b[0mself\u001b[0m\u001b[1;33m.\u001b[0m\u001b[0mmodels\u001b[0m\u001b[1;33m[\u001b[0m\u001b[0mval\u001b[0m\u001b[1;33m]\u001b[0m\u001b[1;33m.\u001b[0m\u001b[0mtrain\u001b[0m\u001b[1;33m(\u001b[0m\u001b[0mself\u001b[0m\u001b[1;33m.\u001b[0m\u001b[0mK\u001b[0m\u001b[1;33m,\u001b[0m \u001b[0mself\u001b[0m\u001b[1;33m.\u001b[0m\u001b[0mytemps\u001b[0m\u001b[1;33m[\u001b[0m\u001b[0mval\u001b[0m\u001b[1;33m]\u001b[0m\u001b[1;33m,\u001b[0m \u001b[0mepochs\u001b[0m \u001b[1;33m=\u001b[0m \u001b[1;36m1\u001b[0m\u001b[1;33m,\u001b[0m \u001b[0malt\u001b[0m \u001b[1;33m=\u001b[0m \u001b[0malt\u001b[0m\u001b[1;33m)\u001b[0m\u001b[1;33m\u001b[0m\u001b[1;33m\u001b[0m\u001b[0m\n\u001b[0m\u001b[0;32m     84\u001b[0m \u001b[1;33m\u001b[0m\u001b[0m\n\u001b[0;32m     85\u001b[0m         \u001b[1;32mif\u001b[0m \u001b[0mprint_accs\u001b[0m\u001b[1;33m:\u001b[0m\u001b[1;33m\u001b[0m\u001b[1;33m\u001b[0m\u001b[0m\n",
      "\u001b[1;32m<ipython-input-24-79122fff677a>\u001b[0m in \u001b[0;36mtrain\u001b[1;34m(self, K, y, d, epochs, alt)\u001b[0m\n\u001b[0;32m     16\u001b[0m                 \u001b[0mnp\u001b[0m\u001b[1;33m.\u001b[0m\u001b[0mrandom\u001b[0m\u001b[1;33m.\u001b[0m\u001b[0mshuffle\u001b[0m\u001b[1;33m(\u001b[0m\u001b[0mjs\u001b[0m\u001b[1;33m)\u001b[0m\u001b[1;33m\u001b[0m\u001b[1;33m\u001b[0m\u001b[0m\n\u001b[0;32m     17\u001b[0m                 \u001b[1;32mfor\u001b[0m \u001b[0mi\u001b[0m \u001b[1;32min\u001b[0m \u001b[0mjs\u001b[0m\u001b[1;33m:\u001b[0m\u001b[1;33m\u001b[0m\u001b[1;33m\u001b[0m\u001b[0m\n\u001b[1;32m---> 18\u001b[1;33m                     \u001b[0myhat\u001b[0m \u001b[1;33m=\u001b[0m \u001b[0mnp\u001b[0m\u001b[1;33m.\u001b[0m\u001b[0msign\u001b[0m\u001b[1;33m(\u001b[0m\u001b[0mnp\u001b[0m\u001b[1;33m.\u001b[0m\u001b[0msign\u001b[0m\u001b[1;33m(\u001b[0m\u001b[1;33m(\u001b[0m\u001b[0mK\u001b[0m\u001b[1;33m[\u001b[0m\u001b[1;33m:\u001b[0m\u001b[1;33m,\u001b[0m\u001b[0mi\u001b[0m\u001b[1;33m]\u001b[0m\u001b[1;33m.\u001b[0m\u001b[0mdot\u001b[0m\u001b[1;33m(\u001b[0m\u001b[0mself\u001b[0m\u001b[1;33m.\u001b[0m\u001b[0malpha\u001b[0m\u001b[1;33m)\u001b[0m\u001b[1;33m)\u001b[0m\u001b[1;33m)\u001b[0m\u001b[1;33m)\u001b[0m\u001b[1;33m\u001b[0m\u001b[1;33m\u001b[0m\u001b[0m\n\u001b[0m\u001b[0;32m     19\u001b[0m                     \u001b[1;32mif\u001b[0m \u001b[0myhat\u001b[0m \u001b[1;33m!=\u001b[0m \u001b[0my\u001b[0m\u001b[1;33m[\u001b[0m\u001b[0mi\u001b[0m\u001b[1;33m]\u001b[0m\u001b[1;33m:\u001b[0m\u001b[1;33m\u001b[0m\u001b[1;33m\u001b[0m\u001b[0m\n\u001b[0;32m     20\u001b[0m                         \u001b[0mself\u001b[0m\u001b[1;33m.\u001b[0m\u001b[0malpha\u001b[0m\u001b[1;33m[\u001b[0m\u001b[0mi\u001b[0m\u001b[1;33m]\u001b[0m \u001b[1;33m+=\u001b[0m \u001b[0my\u001b[0m\u001b[1;33m[\u001b[0m\u001b[0mi\u001b[0m\u001b[1;33m]\u001b[0m\u001b[1;33m\u001b[0m\u001b[1;33m\u001b[0m\u001b[0m\n",
      "\u001b[1;31mKeyboardInterrupt\u001b[0m: "
     ]
    }
   ],
   "source": [
    "ntrain = int(0.8*len(xtrain))\n",
    "metrics = np.zeros((7, 20, 2))\n",
    "nfold = int(0.8 * ntrain)\n",
    "nfoldtest = int(ntrain - nfold)\n",
    "dstars = np.zeros(20)\n",
    "testerr = np.zeros(20)\n",
    "confusion_matrix = np.zeros((10, 10))\n",
    "cvfullnew = np.zeros((7, 20, 5, 2))\n",
    "print(\"Start\")\n",
    "start = time.time()\n",
    "for i in range(20):\n",
    "    np.random.seed(i)\n",
    "    js = np.arange(len(xtrain))\n",
    "    np.random.shuffle(js)\n",
    "    jtrain = js[:ntrain]\n",
    "    jtest = js[ntrain:]\n",
    "    bestacc = 0\n",
    "    dstar = 7\n",
    "    for d in range(1, 2):\n",
    "        # split into 80/20\n",
    "        fullKd = np.load(f\"K{d}\")\n",
    "        Ktrain, ytraini, Ktest, ytesti = split2(fullKd, jtrain, jtest, ytrain, ntrain)\n",
    "        # five-fold cross validation\n",
    "        testacc = 0\n",
    "        for k in range(5):\n",
    "            nsplit = int(nfold * k/5)\n",
    "            ktrain1 = np.arange(0, nsplit+1)\n",
    "            ktest = np.arange(nsplit+1, nsplit + nfoldtest-1)\n",
    "            ktrain2 = np.arange(nsplit + nfoldtest-1, nfold)\n",
    "            ktrain = np.hstack([ktrain1, ktrain2]).flatten()\n",
    "            Kfoldtrain, yfoldtraini, Kfoldtest, yfoldtesti = split_data(Ktrain, ktrain, ktest, ytraini, nfold)\n",
    "            model = onevsall(yfoldtraini, yfoldtraini, None, yfoldtesti, d = d, ks = (Kfoldtrain, Kfoldtest))\n",
    "            for epoch in range(10):\n",
    "                model.train(False, False)    \n",
    "            yhat = model.predict(Kfoldtest, yfoldtesti)\n",
    "            testacc += 0.2 * np.mean(yhat.flatten() == yfoldtesti.flatten())\n",
    "            cvfullnew[d-1, i, k] = [np.mean(model.predict(Kfoldtrain, yfoldtraini).flatten() == yfoldtraini.flatten()),\n",
    "                                    np.mean(yhat.flatten() == yfoldtesti.flatten())]\n",
    "        print(f\"{i} run : {d}: {testacc}, {bestacc}, {dstar}\")\n",
    "        np.save(open(\"fullonevsoneCVFINAL\", \"wb\"), cvfullnew)        \n",
    "        if testacc > bestacc:\n",
    "            bestacc = testacc\n",
    "            dstar = d\n",
    "    fullKd = np.load(f\"K{dstar}\")\n",
    "    Ktrainfinal, ytraini, Ktestfinal, ytesti = split2(fullKd, jtrain, jtest, ytrain, ntrain)\n",
    "    finalmodel = onevsall(ytrain, ytraini, None, ytesti, ks = (Ktrainfinal, Ktestfinal))\n",
    "    for epoch in range(10):\n",
    "        finalmodel.train(False, False)\n",
    "    finalyhat = finalmodel.predict(Ktestfinal, ytesti)\n",
    "    dstars[i] = dstar\n",
    "    testerr[i] = 1 - (finalmodel.predict(finalmodel.Ktest, finalmodel.ytest).flatten() == finalmodel.ytest.flatten()).mean()\n",
    "    print(f\"{i} runs finished. Dstar: {dstar}, Testerr: {testerr[i]}, Time: {time.time() -start}\")\n",
    "    np.save(open(\"1v1testerrFINAL\", \"wb\"), testerr)\n",
    "    np.save(open(\"1v1dstarsFINAL\", \"wb\"), dstars)\n",
    "    "
   ]
  }
 ],
 "metadata": {
  "colab": {
   "collapsed_sections": [
    "rBm_UkO3xtci"
   ],
   "name": "SL 2: Section 1",
   "provenance": [],
   "toc_visible": true
  },
  "kernelspec": {
   "display_name": "Python 3",
   "language": "python",
   "name": "python3"
  },
  "language_info": {
   "codemirror_mode": {
    "name": "ipython",
    "version": 3
   },
   "file_extension": ".py",
   "mimetype": "text/x-python",
   "name": "python",
   "nbconvert_exporter": "python",
   "pygments_lexer": "ipython3",
   "version": "3.8.3"
  }
 },
 "nbformat": 4,
 "nbformat_minor": 1
}
